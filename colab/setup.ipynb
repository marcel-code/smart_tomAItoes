{
  "cells": [
    {
      "cell_type": "markdown",
      "metadata": {
        "colab_type": "text",
        "id": "view-in-github"
      },
      "source": [
        "<a href=\"https://colab.research.google.com/github/marcel-code/smart_tomAItoes/blob/main/colab/setup.py\" target=\"_parent\"><img src=\"https://colab.research.google.com/assets/colab-badge.svg\" alt=\"Open In Colab\"/></a>"
      ]
    },
    {
      "cell_type": "markdown",
      "metadata": {
        "id": "lwudlGVCw7sO"
      },
      "source": [
        "# Initial Setup of Colab and short Intro"
      ]
    },
    {
      "cell_type": "code",
      "execution_count": 1,
      "metadata": {
        "id": "jYpgNWIcnhdO"
      },
      "outputs": [],
      "source": [
        "# Import Modules\n",
        "import shutil\n",
        "import os\n",
        "import sys"
      ]
    },
    {
      "cell_type": "code",
      "execution_count": 2,
      "metadata": {
        "colab": {
          "base_uri": "https://localhost:8080/"
        },
        "id": "h69bZB8h0R4t",
        "outputId": "568f35d2-99ff-4f46-e2b2-21ffa53c0d55"
      },
      "outputs": [
        {
          "name": "stdout",
          "output_type": "stream",
          "text": [
            "Cloning into 'smart_tomAItoes'...\n",
            "remote: Enumerating objects: 35, done.\u001b[K\n",
            "remote: Counting objects: 100% (35/35), done.\u001b[K\n",
            "remote: Compressing objects: 100% (23/23), done.\u001b[K\n",
            "remote: Total 35 (delta 8), reused 27 (delta 4), pack-reused 0\u001b[K\n",
            "Receiving objects: 100% (35/35), 5.90 KiB | 549.00 KiB/s, done.\n",
            "Resolving deltas: 100% (8/8), done.\n"
          ]
        }
      ],
      "source": [
        "# Reload repo and insert path for accessing modules\n",
        "if os.path.isdir('/content/smart_tomAItoes'):\n",
        "  shutil.rmtree('/content/smart_tomAItoes')\n",
        "!git clone https://github.com/marcel-code/smart_tomAItoes.git\n",
        "sys.path.insert(0,'/content/smart_tomAItoes')"
      ]
    },
    {
      "cell_type": "code",
      "execution_count": 5,
      "metadata": {
        "colab": {
          "base_uri": "https://localhost:8080/"
        },
        "id": "7TRKRJ6A5Xuk",
        "outputId": "6eb30d4d-bc64-44f4-8fbe-672efc27098f"
      },
      "outputs": [
        {
          "name": "stdout",
          "output_type": "stream",
          "text": [
            "3\n"
          ]
        }
      ],
      "source": [
        "# How to include module from repo\n",
        "from src.utils.testcode import add_nums\n",
        "print(add_nums(1,2))"
      ]
    }
  ],
  "metadata": {
    "colab": {
      "authorship_tag": "ABX9TyNB4roh8l3trQ1+HwUiC7Nx",
      "include_colab_link": true,
      "provenance": []
    },
    "kernelspec": {
      "display_name": "Python 3",
      "name": "python3"
    },
    "language_info": {
      "name": "python"
    }
  },
  "nbformat": 4,
  "nbformat_minor": 0
}

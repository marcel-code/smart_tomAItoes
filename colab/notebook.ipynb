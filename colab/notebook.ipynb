{
  "cells": [
    {
      "cell_type": "markdown",
      "metadata": {
        "id": "view-in-github",
        "colab_type": "text"
      },
      "source": [
        "<a href=\"https://colab.research.google.com/github/marcel-code/smart_tomAItoes/blob/main/colab/setup.ipynb\" target=\"_parent\"><img src=\"https://colab.research.google.com/assets/colab-badge.svg\" alt=\"Open In Colab\"/></a>"
      ]
    },
    {
      "cell_type": "markdown",
      "metadata": {
        "id": "lwudlGVCw7sO"
      },
      "source": [
        "# Initial Setup of Colab and short Intro"
      ]
    },
    {
      "cell_type": "code",
      "execution_count": 1,
      "metadata": {
        "id": "jYpgNWIcnhdO"
      },
      "outputs": [],
      "source": [
        "# Import Modules\n",
        "import shutil\n",
        "import os\n",
        "import sys"
      ]
    },
    {
      "cell_type": "code",
      "execution_count": 2,
      "metadata": {
        "colab": {
          "base_uri": "https://localhost:8080/"
        },
        "id": "h69bZB8h0R4t",
        "outputId": "89b4bdf3-68d3-4c2c-908e-973f4e552621"
      },
      "outputs": [
        {
          "output_type": "stream",
          "name": "stdout",
          "text": [
            "Cloning into 'smart_tomAItoes'...\n",
            "remote: Enumerating objects: 48, done.\u001b[K\n",
            "remote: Counting objects: 100% (48/48), done.\u001b[K\n",
            "remote: Compressing objects: 100% (34/34), done.\u001b[K\n",
            "remote: Total 48 (delta 13), reused 32 (delta 4), pack-reused 0\u001b[K\n",
            "Receiving objects: 100% (48/48), 11.38 KiB | 5.69 MiB/s, done.\n",
            "Resolving deltas: 100% (13/13), done.\n"
          ]
        }
      ],
      "source": [
        "# Reload repo and insert path for accessing modules\n",
        "if os.path.isdir('/content/smart_tomAItoes'):\n",
        "  shutil.rmtree('/content/smart_tomAItoes')\n",
        "!git clone https://github.com/marcel-code/smart_tomAItoes.git\n",
        "sys.path.insert(0,'/content/smart_tomAItoes')"
      ]
    },
    {
      "cell_type": "code",
      "execution_count": 3,
      "metadata": {
        "colab": {
          "base_uri": "https://localhost:8080/"
        },
        "id": "7TRKRJ6A5Xuk",
        "outputId": "aed69e9e-7f52-493b-9cda-8b2df0167906"
      },
      "outputs": [
        {
          "output_type": "stream",
          "name": "stdout",
          "text": [
            "3\n"
          ]
        }
      ],
      "source": [
        "# How to include module from repo\n",
        "from src.utils.testcode import add_nums\n",
        "print(add_nums(1,2))"
      ]
    },
    {
      "cell_type": "markdown",
      "source": [
        "# Working Mode\n"
      ],
      "metadata": {
        "id": "LjJhHQf7-11r"
      }
    },
    {
      "cell_type": "code",
      "source": [],
      "metadata": {
        "id": "PL44cHdC-5BT"
      },
      "execution_count": null,
      "outputs": []
    }
  ],
  "metadata": {
    "colab": {
      "provenance": [],
      "toc_visible": true,
      "include_colab_link": true
    },
    "kernelspec": {
      "display_name": "Python 3",
      "name": "python3"
    },
    "language_info": {
      "name": "python"
    }
  },
  "nbformat": 4,
  "nbformat_minor": 0
}